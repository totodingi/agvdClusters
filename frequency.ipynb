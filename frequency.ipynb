{
 "cells": [
  {
   "cell_type": "code",
   "execution_count": 1,
   "id": "42c862db-a067-4b16-a662-8932e3c0d417",
   "metadata": {},
   "outputs": [],
   "source": [
    "from pyopencga.opencga_config import ClientConfiguration\n",
    "from pyopencga.opencga_client import OpencgaClient\n",
    "from dotenv import dotenv_values"
   ]
  },
  {
   "cell_type": "code",
   "execution_count": 15,
   "id": "a6c1ba72-b8be-42d6-a815-1b31ea290bdc",
   "metadata": {},
   "outputs": [
    {
     "name": "stdout",
     "output_type": "stream",
     "text": [
      "\u001b[31m[WARNING]: Client version (2.8.0-SNAPSHOT) is higher than server version (2.6.2). Some client features may not be implemented in the server.\n",
      "\u001b[0m\u001b[31m[WARNING]: Client version (2.8.0-SNAPSHOT) is higher than server version (2.6.2). Some client features may not be implemented in the server.\n",
      "\u001b[0m"
     ]
    }
   ],
   "source": [
    "secret = dotenv_values()\n",
    "config = ClientConfiguration({\n",
    "        'rest': {\n",
    "            'host': 'https://agvd-rps.h3abionet.org/opencga-2.6.2-SNAPSHOT/'}})\n",
    "client = OpencgaClient(config)\n",
    "client.login(secret['AGVD_USERNAME'], secret['AGVD_PASSWORD'])\n",
    "token = client.token\n",
    "client = OpencgaClient(config,token)"
   ]
  },
  {
   "cell_type": "code",
   "execution_count": 14,
   "id": "5365f9b0-5acc-4f05-830e-33656bf72f67",
   "metadata": {},
   "outputs": [
    {
     "name": "stdout",
     "output_type": "stream",
     "text": [
      "ALL\n",
      "Delta_v1\n",
      "Beta_v1\n",
      "Gamma_v1\n",
      "Epsilon_v1\n",
      "Alpha_v1\n",
      "Western_v1\n",
      "Eastern_v1\n",
      "Central_v1\n",
      "Southern_v1\n"
     ]
    }
   ],
   "source": [
    "cohorts=[]\n",
    "for res in client.cohorts.search(study='wilson@agvp:h3awgs').get_results():\n",
    "    cohorts.append(res['id'])\n",
    "    print(res['id'])"
   ]
  },
  {
   "cell_type": "code",
   "execution_count": 12,
   "id": "41619ea9-0394-4ced-8ea6-c25637c9c533",
   "metadata": {},
   "outputs": [
    {
     "name": "stdout",
     "output_type": "stream",
     "text": [
      "Picked up _JAVA_OPTIONS: -Xmx100g\n",
      "Picked up _JAVA_OPTIONS: -Xmx100g\n",
      "Picked up _JAVA_OPTIONS: -Xmx100g\n",
      "Picked up _JAVA_OPTIONS: -Xmx100g\n",
      "#ID\tTOOL_ID\tSUBMISSION_DATE\tSTATUS\tEVENTS\tSTART\tRUNNING_TIME\tINPUT\tOUTPUT\n",
      "variant-stats-index.20230630230451.Ug8jAI\tvariant-stats-index\t2023-06-30 23:04:51\tPENDING\t-\t-\t-\t-\t-\n",
      "Picked up _JAVA_OPTIONS: -Xmx100g\n",
      "Picked up _JAVA_OPTIONS: -Xmx100g\n",
      "Picked up _JAVA_OPTIONS: -Xmx100g\n",
      "Picked up _JAVA_OPTIONS: -Xmx100g\n",
      "#ID\tTOOL_ID\tSUBMISSION_DATE\tSTATUS\tEVENTS\tSTART\tRUNNING_TIME\tINPUT\tOUTPUT\n",
      "variant-stats-index.20230630230503.m17EEU\tvariant-stats-index\t2023-06-30 23:05:03\tPENDING\t-\t-\t-\t-\t-\n",
      "Picked up _JAVA_OPTIONS: -Xmx100g\n",
      "Picked up _JAVA_OPTIONS: -Xmx100g\n",
      "Picked up _JAVA_OPTIONS: -Xmx100g\n",
      "Picked up _JAVA_OPTIONS: -Xmx100g\n",
      "#ID\tTOOL_ID\tSUBMISSION_DATE\tSTATUS\tEVENTS\tSTART\tRUNNING_TIME\tINPUT\tOUTPUT\n",
      "variant-stats-index.20230630230517.i9svBS\tvariant-stats-index\t2023-06-30 23:05:17\tPENDING\t-\t-\t-\t-\t-\n",
      "Picked up _JAVA_OPTIONS: -Xmx100g\n",
      "Picked up _JAVA_OPTIONS: -Xmx100g\n",
      "Picked up _JAVA_OPTIONS: -Xmx100g\n",
      "Picked up _JAVA_OPTIONS: -Xmx100g\n",
      "#ID\tTOOL_ID\tSUBMISSION_DATE\tSTATUS\tEVENTS\tSTART\tRUNNING_TIME\tINPUT\tOUTPUT\n",
      "variant-stats-index.20230630230530.q7pMEM\tvariant-stats-index\t2023-06-30 23:05:30\tPENDING\t-\t-\t-\t-\t-\n",
      "Picked up _JAVA_OPTIONS: -Xmx100g\n",
      "Picked up _JAVA_OPTIONS: -Xmx100g\n",
      "Picked up _JAVA_OPTIONS: -Xmx100g\n",
      "Picked up _JAVA_OPTIONS: -Xmx100g\n",
      "#ID\tTOOL_ID\tSUBMISSION_DATE\tSTATUS\tEVENTS\tSTART\tRUNNING_TIME\tINPUT\tOUTPUT\n",
      "variant-stats-index.20230630230543.HJ7ghH\tvariant-stats-index\t2023-06-30 23:05:43\tPENDING\t-\t-\t-\t-\t-\n",
      "Picked up _JAVA_OPTIONS: -Xmx100g\n",
      "Picked up _JAVA_OPTIONS: -Xmx100g\n",
      "Picked up _JAVA_OPTIONS: -Xmx100g\n",
      "Picked up _JAVA_OPTIONS: -Xmx100g\n",
      "#ID\tTOOL_ID\tSUBMISSION_DATE\tSTATUS\tEVENTS\tSTART\tRUNNING_TIME\tINPUT\tOUTPUT\n",
      "variant-stats-index.20230630230556.9NJOn0\tvariant-stats-index\t2023-06-30 23:05:56\tPENDING\t-\t-\t-\t-\t-\n",
      "Picked up _JAVA_OPTIONS: -Xmx100g\n",
      "Picked up _JAVA_OPTIONS: -Xmx100g\n",
      "Picked up _JAVA_OPTIONS: -Xmx100g\n",
      "Picked up _JAVA_OPTIONS: -Xmx100g\n",
      "#ID\tTOOL_ID\tSUBMISSION_DATE\tSTATUS\tEVENTS\tSTART\tRUNNING_TIME\tINPUT\tOUTPUT\n",
      "variant-stats-index.20230630230608.oZ3wZy\tvariant-stats-index\t2023-06-30 23:06:08\tPENDING\t-\t-\t-\t-\t-\n",
      "Picked up _JAVA_OPTIONS: -Xmx100g\n",
      "Picked up _JAVA_OPTIONS: -Xmx100g\n",
      "Picked up _JAVA_OPTIONS: -Xmx100g\n",
      "Picked up _JAVA_OPTIONS: -Xmx100g\n",
      "#ID\tTOOL_ID\tSUBMISSION_DATE\tSTATUS\tEVENTS\tSTART\tRUNNING_TIME\tINPUT\tOUTPUT\n",
      "variant-stats-index.20230630230621.Tef5vA\tvariant-stats-index\t2023-06-30 23:06:21\tPENDING\t-\t-\t-\t-\t-\n",
      "Picked up _JAVA_OPTIONS: -Xmx100g\n",
      "Picked up _JAVA_OPTIONS: -Xmx100g\n",
      "Picked up _JAVA_OPTIONS: -Xmx100g\n",
      "Picked up _JAVA_OPTIONS: -Xmx100g\n",
      "#ID\tTOOL_ID\tSUBMISSION_DATE\tSTATUS\tEVENTS\tSTART\tRUNNING_TIME\tINPUT\tOUTPUT\n",
      "variant-stats-index.20230630230634.VTinzH\tvariant-stats-index\t2023-06-30 23:06:34\tPENDING\t-\t-\t-\t-\t-\n",
      "Picked up _JAVA_OPTIONS: -Xmx100g\n",
      "Picked up _JAVA_OPTIONS: -Xmx100g\n",
      "Picked up _JAVA_OPTIONS: -Xmx100g\n",
      "Picked up _JAVA_OPTIONS: -Xmx100g\n",
      "#ID\tTOOL_ID\tSUBMISSION_DATE\tSTATUS\tEVENTS\tSTART\tRUNNING_TIME\tINPUT\tOUTPUT\n",
      "variant-stats-index.20230630230647.dK4msR\tvariant-stats-index\t2023-06-30 23:06:47\tPENDING\t-\t-\t-\t-\t-\n"
     ]
    }
   ],
   "source": [
    "for cohort in cohorts: \n",
    "    !opencga.sh operations variant-stats-index --cohort $cohort --study wilson@agvp:h3awgs\n",
    "    # client.variant_operations.index_variant_stats(cohort=cohort, study='wilson@agvp:h3awgs').get_results()"
   ]
  },
  {
   "cell_type": "code",
   "execution_count": 19,
   "id": "de78c5e7-f969-40d8-a288-dd006518bdd1",
   "metadata": {},
   "outputs": [],
   "source": [
    "# client.projects.info(projects='wilson@agvp').get_results()"
   ]
  },
  {
   "cell_type": "code",
   "execution_count": null,
   "id": "4338faf5-b9c9-4136-9484-5a9a87a7b1f8",
   "metadata": {},
   "outputs": [],
   "source": []
  }
 ],
 "metadata": {
  "kernelspec": {
   "display_name": "Python 3 (ipykernel)",
   "language": "python",
   "name": "python3"
  },
  "language_info": {
   "codemirror_mode": {
    "name": "ipython",
    "version": 3
   },
   "file_extension": ".py",
   "mimetype": "text/x-python",
   "name": "python",
   "nbconvert_exporter": "python",
   "pygments_lexer": "ipython3",
   "version": "3.8.10"
  }
 },
 "nbformat": 4,
 "nbformat_minor": 5
}
